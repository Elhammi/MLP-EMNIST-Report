{
  "nbformat": 4,
  "nbformat_minor": 0,
  "metadata": {
    "colab": {
      "provenance": []
    },
    "kernelspec": {
      "name": "python3",
      "display_name": "Python 3"
    },
    "language_info": {
      "name": "python"
    },
    "widgets": {
      "application/vnd.jupyter.widget-state+json": {
        "782ab328b3ff4fed9ef6592058c96384": {
          "model_module": "@jupyter-widgets/controls",
          "model_name": "HBoxModel",
          "model_module_version": "1.5.0",
          "state": {
            "_dom_classes": [],
            "_model_module": "@jupyter-widgets/controls",
            "_model_module_version": "1.5.0",
            "_model_name": "HBoxModel",
            "_view_count": null,
            "_view_module": "@jupyter-widgets/controls",
            "_view_module_version": "1.5.0",
            "_view_name": "HBoxView",
            "box_style": "",
            "children": [
              "IPY_MODEL_2b1c0adf8925428ab2115a3471cc0c74",
              "IPY_MODEL_a5c7140512644b1c96c3a533acb1a5be",
              "IPY_MODEL_888e4639a29c4f57b31e49cb8e863445"
            ],
            "layout": "IPY_MODEL_e4d73c4ec5f24227b8a562c3fe94ded5"
          }
        },
        "2b1c0adf8925428ab2115a3471cc0c74": {
          "model_module": "@jupyter-widgets/controls",
          "model_name": "HTMLModel",
          "model_module_version": "1.5.0",
          "state": {
            "_dom_classes": [],
            "_model_module": "@jupyter-widgets/controls",
            "_model_module_version": "1.5.0",
            "_model_name": "HTMLModel",
            "_view_count": null,
            "_view_module": "@jupyter-widgets/controls",
            "_view_module_version": "1.5.0",
            "_view_name": "HTMLView",
            "description": "",
            "description_tooltip": null,
            "layout": "IPY_MODEL_c0df89500dcd48fe87375d23bded9781",
            "placeholder": "​",
            "style": "IPY_MODEL_a2d050c30d7a485f80312bf070729bcb",
            "value": "100%"
          }
        },
        "a5c7140512644b1c96c3a533acb1a5be": {
          "model_module": "@jupyter-widgets/controls",
          "model_name": "FloatProgressModel",
          "model_module_version": "1.5.0",
          "state": {
            "_dom_classes": [],
            "_model_module": "@jupyter-widgets/controls",
            "_model_module_version": "1.5.0",
            "_model_name": "FloatProgressModel",
            "_view_count": null,
            "_view_module": "@jupyter-widgets/controls",
            "_view_module_version": "1.5.0",
            "_view_name": "ProgressView",
            "bar_style": "success",
            "description": "",
            "description_tooltip": null,
            "layout": "IPY_MODEL_4afc8b8c71a24f399224491aa3f4fafa",
            "max": 561753746,
            "min": 0,
            "orientation": "horizontal",
            "style": "IPY_MODEL_ffb3d9bfdcfa4bc29f348cc76118c798",
            "value": 561753746
          }
        },
        "888e4639a29c4f57b31e49cb8e863445": {
          "model_module": "@jupyter-widgets/controls",
          "model_name": "HTMLModel",
          "model_module_version": "1.5.0",
          "state": {
            "_dom_classes": [],
            "_model_module": "@jupyter-widgets/controls",
            "_model_module_version": "1.5.0",
            "_model_name": "HTMLModel",
            "_view_count": null,
            "_view_module": "@jupyter-widgets/controls",
            "_view_module_version": "1.5.0",
            "_view_name": "HTMLView",
            "description": "",
            "description_tooltip": null,
            "layout": "IPY_MODEL_aec0f72667b34cdb90404734461c4659",
            "placeholder": "​",
            "style": "IPY_MODEL_a6378a32e3bd4928aca326a3d4d4b0d3",
            "value": " 561753746/561753746 [00:09&lt;00:00, 63770457.51it/s]"
          }
        },
        "e4d73c4ec5f24227b8a562c3fe94ded5": {
          "model_module": "@jupyter-widgets/base",
          "model_name": "LayoutModel",
          "model_module_version": "1.2.0",
          "state": {
            "_model_module": "@jupyter-widgets/base",
            "_model_module_version": "1.2.0",
            "_model_name": "LayoutModel",
            "_view_count": null,
            "_view_module": "@jupyter-widgets/base",
            "_view_module_version": "1.2.0",
            "_view_name": "LayoutView",
            "align_content": null,
            "align_items": null,
            "align_self": null,
            "border": null,
            "bottom": null,
            "display": null,
            "flex": null,
            "flex_flow": null,
            "grid_area": null,
            "grid_auto_columns": null,
            "grid_auto_flow": null,
            "grid_auto_rows": null,
            "grid_column": null,
            "grid_gap": null,
            "grid_row": null,
            "grid_template_areas": null,
            "grid_template_columns": null,
            "grid_template_rows": null,
            "height": null,
            "justify_content": null,
            "justify_items": null,
            "left": null,
            "margin": null,
            "max_height": null,
            "max_width": null,
            "min_height": null,
            "min_width": null,
            "object_fit": null,
            "object_position": null,
            "order": null,
            "overflow": null,
            "overflow_x": null,
            "overflow_y": null,
            "padding": null,
            "right": null,
            "top": null,
            "visibility": null,
            "width": null
          }
        },
        "c0df89500dcd48fe87375d23bded9781": {
          "model_module": "@jupyter-widgets/base",
          "model_name": "LayoutModel",
          "model_module_version": "1.2.0",
          "state": {
            "_model_module": "@jupyter-widgets/base",
            "_model_module_version": "1.2.0",
            "_model_name": "LayoutModel",
            "_view_count": null,
            "_view_module": "@jupyter-widgets/base",
            "_view_module_version": "1.2.0",
            "_view_name": "LayoutView",
            "align_content": null,
            "align_items": null,
            "align_self": null,
            "border": null,
            "bottom": null,
            "display": null,
            "flex": null,
            "flex_flow": null,
            "grid_area": null,
            "grid_auto_columns": null,
            "grid_auto_flow": null,
            "grid_auto_rows": null,
            "grid_column": null,
            "grid_gap": null,
            "grid_row": null,
            "grid_template_areas": null,
            "grid_template_columns": null,
            "grid_template_rows": null,
            "height": null,
            "justify_content": null,
            "justify_items": null,
            "left": null,
            "margin": null,
            "max_height": null,
            "max_width": null,
            "min_height": null,
            "min_width": null,
            "object_fit": null,
            "object_position": null,
            "order": null,
            "overflow": null,
            "overflow_x": null,
            "overflow_y": null,
            "padding": null,
            "right": null,
            "top": null,
            "visibility": null,
            "width": null
          }
        },
        "a2d050c30d7a485f80312bf070729bcb": {
          "model_module": "@jupyter-widgets/controls",
          "model_name": "DescriptionStyleModel",
          "model_module_version": "1.5.0",
          "state": {
            "_model_module": "@jupyter-widgets/controls",
            "_model_module_version": "1.5.0",
            "_model_name": "DescriptionStyleModel",
            "_view_count": null,
            "_view_module": "@jupyter-widgets/base",
            "_view_module_version": "1.2.0",
            "_view_name": "StyleView",
            "description_width": ""
          }
        },
        "4afc8b8c71a24f399224491aa3f4fafa": {
          "model_module": "@jupyter-widgets/base",
          "model_name": "LayoutModel",
          "model_module_version": "1.2.0",
          "state": {
            "_model_module": "@jupyter-widgets/base",
            "_model_module_version": "1.2.0",
            "_model_name": "LayoutModel",
            "_view_count": null,
            "_view_module": "@jupyter-widgets/base",
            "_view_module_version": "1.2.0",
            "_view_name": "LayoutView",
            "align_content": null,
            "align_items": null,
            "align_self": null,
            "border": null,
            "bottom": null,
            "display": null,
            "flex": null,
            "flex_flow": null,
            "grid_area": null,
            "grid_auto_columns": null,
            "grid_auto_flow": null,
            "grid_auto_rows": null,
            "grid_column": null,
            "grid_gap": null,
            "grid_row": null,
            "grid_template_areas": null,
            "grid_template_columns": null,
            "grid_template_rows": null,
            "height": null,
            "justify_content": null,
            "justify_items": null,
            "left": null,
            "margin": null,
            "max_height": null,
            "max_width": null,
            "min_height": null,
            "min_width": null,
            "object_fit": null,
            "object_position": null,
            "order": null,
            "overflow": null,
            "overflow_x": null,
            "overflow_y": null,
            "padding": null,
            "right": null,
            "top": null,
            "visibility": null,
            "width": null
          }
        },
        "ffb3d9bfdcfa4bc29f348cc76118c798": {
          "model_module": "@jupyter-widgets/controls",
          "model_name": "ProgressStyleModel",
          "model_module_version": "1.5.0",
          "state": {
            "_model_module": "@jupyter-widgets/controls",
            "_model_module_version": "1.5.0",
            "_model_name": "ProgressStyleModel",
            "_view_count": null,
            "_view_module": "@jupyter-widgets/base",
            "_view_module_version": "1.2.0",
            "_view_name": "StyleView",
            "bar_color": null,
            "description_width": ""
          }
        },
        "aec0f72667b34cdb90404734461c4659": {
          "model_module": "@jupyter-widgets/base",
          "model_name": "LayoutModel",
          "model_module_version": "1.2.0",
          "state": {
            "_model_module": "@jupyter-widgets/base",
            "_model_module_version": "1.2.0",
            "_model_name": "LayoutModel",
            "_view_count": null,
            "_view_module": "@jupyter-widgets/base",
            "_view_module_version": "1.2.0",
            "_view_name": "LayoutView",
            "align_content": null,
            "align_items": null,
            "align_self": null,
            "border": null,
            "bottom": null,
            "display": null,
            "flex": null,
            "flex_flow": null,
            "grid_area": null,
            "grid_auto_columns": null,
            "grid_auto_flow": null,
            "grid_auto_rows": null,
            "grid_column": null,
            "grid_gap": null,
            "grid_row": null,
            "grid_template_areas": null,
            "grid_template_columns": null,
            "grid_template_rows": null,
            "height": null,
            "justify_content": null,
            "justify_items": null,
            "left": null,
            "margin": null,
            "max_height": null,
            "max_width": null,
            "min_height": null,
            "min_width": null,
            "object_fit": null,
            "object_position": null,
            "order": null,
            "overflow": null,
            "overflow_x": null,
            "overflow_y": null,
            "padding": null,
            "right": null,
            "top": null,
            "visibility": null,
            "width": null
          }
        },
        "a6378a32e3bd4928aca326a3d4d4b0d3": {
          "model_module": "@jupyter-widgets/controls",
          "model_name": "DescriptionStyleModel",
          "model_module_version": "1.5.0",
          "state": {
            "_model_module": "@jupyter-widgets/controls",
            "_model_module_version": "1.5.0",
            "_model_name": "DescriptionStyleModel",
            "_view_count": null,
            "_view_module": "@jupyter-widgets/base",
            "_view_module_version": "1.2.0",
            "_view_name": "StyleView",
            "description_width": ""
          }
        },
        "9a6735fc17df4d83b2ac35c31649002d": {
          "model_module": "@jupyter-widgets/controls",
          "model_name": "HBoxModel",
          "model_module_version": "1.5.0",
          "state": {
            "_dom_classes": [],
            "_model_module": "@jupyter-widgets/controls",
            "_model_module_version": "1.5.0",
            "_model_name": "HBoxModel",
            "_view_count": null,
            "_view_module": "@jupyter-widgets/controls",
            "_view_module_version": "1.5.0",
            "_view_name": "HBoxView",
            "box_style": "",
            "children": [
              "IPY_MODEL_594a08719d994c67be28faf313997608",
              "IPY_MODEL_a3ffde37af724c4a9cf356743b813bf1",
              "IPY_MODEL_77426848c4384fdc969dccc4630399d9"
            ],
            "layout": "IPY_MODEL_a171a8f5b9534128ab2e5ae0dbfb6bec"
          }
        },
        "594a08719d994c67be28faf313997608": {
          "model_module": "@jupyter-widgets/controls",
          "model_name": "HTMLModel",
          "model_module_version": "1.5.0",
          "state": {
            "_dom_classes": [],
            "_model_module": "@jupyter-widgets/controls",
            "_model_module_version": "1.5.0",
            "_model_name": "HTMLModel",
            "_view_count": null,
            "_view_module": "@jupyter-widgets/controls",
            "_view_module_version": "1.5.0",
            "_view_name": "HTMLView",
            "description": "",
            "description_tooltip": null,
            "layout": "IPY_MODEL_cba77bef52ea4741a5ae9cefc013d9c8",
            "placeholder": "​",
            "style": "IPY_MODEL_3a2fc1ca06ff439abbb5cc14566c54ef",
            "value": "100%"
          }
        },
        "a3ffde37af724c4a9cf356743b813bf1": {
          "model_module": "@jupyter-widgets/controls",
          "model_name": "FloatProgressModel",
          "model_module_version": "1.5.0",
          "state": {
            "_dom_classes": [],
            "_model_module": "@jupyter-widgets/controls",
            "_model_module_version": "1.5.0",
            "_model_name": "FloatProgressModel",
            "_view_count": null,
            "_view_module": "@jupyter-widgets/controls",
            "_view_module_version": "1.5.0",
            "_view_name": "ProgressView",
            "bar_style": "success",
            "description": "",
            "description_tooltip": null,
            "layout": "IPY_MODEL_e9ddd81337ee4050a86cb8d7ef726057",
            "max": 561753746,
            "min": 0,
            "orientation": "horizontal",
            "style": "IPY_MODEL_2460f8fc02a74c66984461bd9662c4c7",
            "value": 561753746
          }
        },
        "77426848c4384fdc969dccc4630399d9": {
          "model_module": "@jupyter-widgets/controls",
          "model_name": "HTMLModel",
          "model_module_version": "1.5.0",
          "state": {
            "_dom_classes": [],
            "_model_module": "@jupyter-widgets/controls",
            "_model_module_version": "1.5.0",
            "_model_name": "HTMLModel",
            "_view_count": null,
            "_view_module": "@jupyter-widgets/controls",
            "_view_module_version": "1.5.0",
            "_view_name": "HTMLView",
            "description": "",
            "description_tooltip": null,
            "layout": "IPY_MODEL_c67b59fe882b4117b8fdca81fce39ab9",
            "placeholder": "​",
            "style": "IPY_MODEL_9af7572b249d43208ada7497575cf2e3",
            "value": " 561753746/561753746 [00:09&lt;00:00, 65862104.50it/s]"
          }
        },
        "a171a8f5b9534128ab2e5ae0dbfb6bec": {
          "model_module": "@jupyter-widgets/base",
          "model_name": "LayoutModel",
          "model_module_version": "1.2.0",
          "state": {
            "_model_module": "@jupyter-widgets/base",
            "_model_module_version": "1.2.0",
            "_model_name": "LayoutModel",
            "_view_count": null,
            "_view_module": "@jupyter-widgets/base",
            "_view_module_version": "1.2.0",
            "_view_name": "LayoutView",
            "align_content": null,
            "align_items": null,
            "align_self": null,
            "border": null,
            "bottom": null,
            "display": null,
            "flex": null,
            "flex_flow": null,
            "grid_area": null,
            "grid_auto_columns": null,
            "grid_auto_flow": null,
            "grid_auto_rows": null,
            "grid_column": null,
            "grid_gap": null,
            "grid_row": null,
            "grid_template_areas": null,
            "grid_template_columns": null,
            "grid_template_rows": null,
            "height": null,
            "justify_content": null,
            "justify_items": null,
            "left": null,
            "margin": null,
            "max_height": null,
            "max_width": null,
            "min_height": null,
            "min_width": null,
            "object_fit": null,
            "object_position": null,
            "order": null,
            "overflow": null,
            "overflow_x": null,
            "overflow_y": null,
            "padding": null,
            "right": null,
            "top": null,
            "visibility": null,
            "width": null
          }
        },
        "cba77bef52ea4741a5ae9cefc013d9c8": {
          "model_module": "@jupyter-widgets/base",
          "model_name": "LayoutModel",
          "model_module_version": "1.2.0",
          "state": {
            "_model_module": "@jupyter-widgets/base",
            "_model_module_version": "1.2.0",
            "_model_name": "LayoutModel",
            "_view_count": null,
            "_view_module": "@jupyter-widgets/base",
            "_view_module_version": "1.2.0",
            "_view_name": "LayoutView",
            "align_content": null,
            "align_items": null,
            "align_self": null,
            "border": null,
            "bottom": null,
            "display": null,
            "flex": null,
            "flex_flow": null,
            "grid_area": null,
            "grid_auto_columns": null,
            "grid_auto_flow": null,
            "grid_auto_rows": null,
            "grid_column": null,
            "grid_gap": null,
            "grid_row": null,
            "grid_template_areas": null,
            "grid_template_columns": null,
            "grid_template_rows": null,
            "height": null,
            "justify_content": null,
            "justify_items": null,
            "left": null,
            "margin": null,
            "max_height": null,
            "max_width": null,
            "min_height": null,
            "min_width": null,
            "object_fit": null,
            "object_position": null,
            "order": null,
            "overflow": null,
            "overflow_x": null,
            "overflow_y": null,
            "padding": null,
            "right": null,
            "top": null,
            "visibility": null,
            "width": null
          }
        },
        "3a2fc1ca06ff439abbb5cc14566c54ef": {
          "model_module": "@jupyter-widgets/controls",
          "model_name": "DescriptionStyleModel",
          "model_module_version": "1.5.0",
          "state": {
            "_model_module": "@jupyter-widgets/controls",
            "_model_module_version": "1.5.0",
            "_model_name": "DescriptionStyleModel",
            "_view_count": null,
            "_view_module": "@jupyter-widgets/base",
            "_view_module_version": "1.2.0",
            "_view_name": "StyleView",
            "description_width": ""
          }
        },
        "e9ddd81337ee4050a86cb8d7ef726057": {
          "model_module": "@jupyter-widgets/base",
          "model_name": "LayoutModel",
          "model_module_version": "1.2.0",
          "state": {
            "_model_module": "@jupyter-widgets/base",
            "_model_module_version": "1.2.0",
            "_model_name": "LayoutModel",
            "_view_count": null,
            "_view_module": "@jupyter-widgets/base",
            "_view_module_version": "1.2.0",
            "_view_name": "LayoutView",
            "align_content": null,
            "align_items": null,
            "align_self": null,
            "border": null,
            "bottom": null,
            "display": null,
            "flex": null,
            "flex_flow": null,
            "grid_area": null,
            "grid_auto_columns": null,
            "grid_auto_flow": null,
            "grid_auto_rows": null,
            "grid_column": null,
            "grid_gap": null,
            "grid_row": null,
            "grid_template_areas": null,
            "grid_template_columns": null,
            "grid_template_rows": null,
            "height": null,
            "justify_content": null,
            "justify_items": null,
            "left": null,
            "margin": null,
            "max_height": null,
            "max_width": null,
            "min_height": null,
            "min_width": null,
            "object_fit": null,
            "object_position": null,
            "order": null,
            "overflow": null,
            "overflow_x": null,
            "overflow_y": null,
            "padding": null,
            "right": null,
            "top": null,
            "visibility": null,
            "width": null
          }
        },
        "2460f8fc02a74c66984461bd9662c4c7": {
          "model_module": "@jupyter-widgets/controls",
          "model_name": "ProgressStyleModel",
          "model_module_version": "1.5.0",
          "state": {
            "_model_module": "@jupyter-widgets/controls",
            "_model_module_version": "1.5.0",
            "_model_name": "ProgressStyleModel",
            "_view_count": null,
            "_view_module": "@jupyter-widgets/base",
            "_view_module_version": "1.2.0",
            "_view_name": "StyleView",
            "bar_color": null,
            "description_width": ""
          }
        },
        "c67b59fe882b4117b8fdca81fce39ab9": {
          "model_module": "@jupyter-widgets/base",
          "model_name": "LayoutModel",
          "model_module_version": "1.2.0",
          "state": {
            "_model_module": "@jupyter-widgets/base",
            "_model_module_version": "1.2.0",
            "_model_name": "LayoutModel",
            "_view_count": null,
            "_view_module": "@jupyter-widgets/base",
            "_view_module_version": "1.2.0",
            "_view_name": "LayoutView",
            "align_content": null,
            "align_items": null,
            "align_self": null,
            "border": null,
            "bottom": null,
            "display": null,
            "flex": null,
            "flex_flow": null,
            "grid_area": null,
            "grid_auto_columns": null,
            "grid_auto_flow": null,
            "grid_auto_rows": null,
            "grid_column": null,
            "grid_gap": null,
            "grid_row": null,
            "grid_template_areas": null,
            "grid_template_columns": null,
            "grid_template_rows": null,
            "height": null,
            "justify_content": null,
            "justify_items": null,
            "left": null,
            "margin": null,
            "max_height": null,
            "max_width": null,
            "min_height": null,
            "min_width": null,
            "object_fit": null,
            "object_position": null,
            "order": null,
            "overflow": null,
            "overflow_x": null,
            "overflow_y": null,
            "padding": null,
            "right": null,
            "top": null,
            "visibility": null,
            "width": null
          }
        },
        "9af7572b249d43208ada7497575cf2e3": {
          "model_module": "@jupyter-widgets/controls",
          "model_name": "DescriptionStyleModel",
          "model_module_version": "1.5.0",
          "state": {
            "_model_module": "@jupyter-widgets/controls",
            "_model_module_version": "1.5.0",
            "_model_name": "DescriptionStyleModel",
            "_view_count": null,
            "_view_module": "@jupyter-widgets/base",
            "_view_module_version": "1.2.0",
            "_view_name": "StyleView",
            "description_width": ""
          }
        }
      }
    }
  },
  "cells": [
    {
      "cell_type": "code",
      "execution_count": 27,
      "metadata": {
        "id": "EJVsNmPstp5C"
      },
      "outputs": [],
      "source": [
        "import argparse\n",
        "from copy import deepcopy\n",
        "from matplotlib import pyplot as plt\n",
        "import numpy as np\n",
        "\n",
        "import torch\n",
        "import torch.nn.functional as F\n",
        "from torch import nn, optim\n",
        "from torch.utils.data import TensorDataset\n",
        "import torchvision \n",
        "import torchvision.transforms as transforms\n",
        "from sklearn.model_selection import train_test_split"
      ]
    },
    {
      "cell_type": "code",
      "source": [
        "device = torch.device('cuda:0' if torch.cuda.is_available() else 'cpu')"
      ],
      "metadata": {
        "id": "ApcBjWn2tviR"
      },
      "execution_count": 2,
      "outputs": []
    },
    {
      "cell_type": "code",
      "source": [
        "Edata = torchvision.datasets.EMNIST(root='emnist',split='balanced' , download=True)"
      ],
      "metadata": {
        "colab": {
          "base_uri": "https://localhost:8080/",
          "height": 85,
          "referenced_widgets": [
            "782ab328b3ff4fed9ef6592058c96384",
            "2b1c0adf8925428ab2115a3471cc0c74",
            "a5c7140512644b1c96c3a533acb1a5be",
            "888e4639a29c4f57b31e49cb8e863445",
            "e4d73c4ec5f24227b8a562c3fe94ded5",
            "c0df89500dcd48fe87375d23bded9781",
            "a2d050c30d7a485f80312bf070729bcb",
            "4afc8b8c71a24f399224491aa3f4fafa",
            "ffb3d9bfdcfa4bc29f348cc76118c798",
            "aec0f72667b34cdb90404734461c4659",
            "a6378a32e3bd4928aca326a3d4d4b0d3"
          ]
        },
        "id": "rrMeim7Rt1X9",
        "outputId": "b6c7edd9-7d1f-48ea-a3ff-71f24536769f"
      },
      "execution_count": 3,
      "outputs": [
        {
          "output_type": "stream",
          "name": "stdout",
          "text": [
            "Downloading https://www.itl.nist.gov/iaui/vip/cs_links/EMNIST/gzip.zip to emnist/EMNIST/raw/gzip.zip\n"
          ]
        },
        {
          "output_type": "display_data",
          "data": {
            "text/plain": [
              "  0%|          | 0/561753746 [00:00<?, ?it/s]"
            ],
            "application/vnd.jupyter.widget-view+json": {
              "version_major": 2,
              "version_minor": 0,
              "model_id": "782ab328b3ff4fed9ef6592058c96384"
            }
          },
          "metadata": {}
        },
        {
          "output_type": "stream",
          "name": "stdout",
          "text": [
            "Extracting emnist/EMNIST/raw/gzip.zip to emnist/EMNIST/raw\n"
          ]
        }
      ]
    },
    {
      "cell_type": "code",
      "source": [
        "print(Edata.classes)\n",
        "print(str(len(Edata.classes))+ 'classes')\n",
        "print('\\nData size:')\n",
        "print(Edata.data.shape)\n",
        "images = Edata.data.view([112800,1,28,28]).float()\n",
        "print('\\nTensor data:')\n",
        "print(images.shape)"
      ],
      "metadata": {
        "colab": {
          "base_uri": "https://localhost:8080/"
        },
        "id": "lQ37_2e-uCdl",
        "outputId": "9a738f09-4361-4c7b-88be-fb39833846b5"
      },
      "execution_count": 5,
      "outputs": [
        {
          "output_type": "stream",
          "name": "stdout",
          "text": [
            "['0', '1', '2', '3', '4', '5', '6', '7', '8', '9', 'A', 'B', 'C', 'D', 'E', 'F', 'G', 'H', 'I', 'J', 'K', 'L', 'M', 'N', 'O', 'P', 'Q', 'R', 'S', 'T', 'U', 'V', 'W', 'X', 'Y', 'Z', 'a', 'b', 'd', 'e', 'f', 'g', 'h', 'n', 'q', 'r', 't']\n",
            "47classes\n",
            "\n",
            "Data size:\n",
            "torch.Size([112800, 28, 28])\n",
            "\n",
            "Tensor data:\n",
            "torch.Size([112800, 1, 28, 28])\n"
          ]
        }
      ]
    },
    {
      "cell_type": "code",
      "source": [
        "print(torch.sum(Edata.targets == 0))\n",
        "torch.unique(Edata.targets)"
      ],
      "metadata": {
        "colab": {
          "base_uri": "https://localhost:8080/"
        },
        "id": "JCfzqfNfuFFF",
        "outputId": "42f841ef-5921-418b-87ff-f9f03ff7db60"
      },
      "execution_count": 6,
      "outputs": [
        {
          "output_type": "stream",
          "name": "stdout",
          "text": [
            "tensor(2400)\n"
          ]
        },
        {
          "output_type": "execute_result",
          "data": {
            "text/plain": [
              "tensor([ 0,  1,  2,  3,  4,  5,  6,  7,  8,  9, 10, 11, 12, 13, 14, 15, 16, 17,\n",
              "        18, 19, 20, 21, 22, 23, 24, 25, 26, 27, 28, 29, 30, 31, 32, 33, 34, 35,\n",
              "        36, 37, 38, 39, 40, 41, 42, 43, 44, 45, 46])"
            ]
          },
          "metadata": {},
          "execution_count": 6
        }
      ]
    },
    {
      "cell_type": "code",
      "source": [
        "import copy\n",
        "letterCategories = Edata.classes[1:]\n",
        "labels = copy.deepcopy(Edata.targets)-1\n",
        "print(labels.shape)\n",
        "print(torch.sum(labels==0))\n",
        "torch.unique(labels)"
      ],
      "metadata": {
        "colab": {
          "base_uri": "https://localhost:8080/"
        },
        "id": "dGNbeqDAuIZE",
        "outputId": "215d633a-47ae-4625-b441-ec463a33acf6"
      },
      "execution_count": 7,
      "outputs": [
        {
          "output_type": "stream",
          "name": "stdout",
          "text": [
            "torch.Size([112800])\n",
            "tensor(2400)\n"
          ]
        },
        {
          "output_type": "execute_result",
          "data": {
            "text/plain": [
              "tensor([-1,  0,  1,  2,  3,  4,  5,  6,  7,  8,  9, 10, 11, 12, 13, 14, 15, 16,\n",
              "        17, 18, 19, 20, 21, 22, 23, 24, 25, 26, 27, 28, 29, 30, 31, 32, 33, 34,\n",
              "        35, 36, 37, 38, 39, 40, 41, 42, 43, 44, 45])"
            ]
          },
          "metadata": {},
          "execution_count": 7
        }
      ]
    },
    {
      "cell_type": "code",
      "source": [
        "\n",
        "transformCustom = transforms.Compose([\n",
        "                                      transforms.ToTensor(), #convert to tensor\n",
        "                                      transforms.Lambda(lambda x:x.view(-1)) #flatten 28*28 into 784 vector for each image\n",
        "                                      ])\n",
        "\n",
        "train = torchvision.datasets.EMNIST(root='.',train=True,transform=transformCustom, download=True,split='balanced')\n",
        "test = torchvision.datasets.EMNIST(root='.',train=False,transform=transformCustom, download=True,split='balanced')"
      ],
      "metadata": {
        "colab": {
          "base_uri": "https://localhost:8080/",
          "height": 85,
          "referenced_widgets": [
            "9a6735fc17df4d83b2ac35c31649002d",
            "594a08719d994c67be28faf313997608",
            "a3ffde37af724c4a9cf356743b813bf1",
            "77426848c4384fdc969dccc4630399d9",
            "a171a8f5b9534128ab2e5ae0dbfb6bec",
            "cba77bef52ea4741a5ae9cefc013d9c8",
            "3a2fc1ca06ff439abbb5cc14566c54ef",
            "e9ddd81337ee4050a86cb8d7ef726057",
            "2460f8fc02a74c66984461bd9662c4c7",
            "c67b59fe882b4117b8fdca81fce39ab9",
            "9af7572b249d43208ada7497575cf2e3"
          ]
        },
        "id": "IlLxEkNjyA3B",
        "outputId": "dd467089-b984-45f6-ee71-30c1a29d29f2"
      },
      "execution_count": 30,
      "outputs": [
        {
          "output_type": "stream",
          "name": "stdout",
          "text": [
            "Downloading https://www.itl.nist.gov/iaui/vip/cs_links/EMNIST/gzip.zip to ./EMNIST/raw/gzip.zip\n"
          ]
        },
        {
          "output_type": "display_data",
          "data": {
            "text/plain": [
              "  0%|          | 0/561753746 [00:00<?, ?it/s]"
            ],
            "application/vnd.jupyter.widget-view+json": {
              "version_major": 2,
              "version_minor": 0,
              "model_id": "9a6735fc17df4d83b2ac35c31649002d"
            }
          },
          "metadata": {}
        },
        {
          "output_type": "stream",
          "name": "stdout",
          "text": [
            "Extracting ./EMNIST/raw/gzip.zip to ./EMNIST/raw\n"
          ]
        }
      ]
    },
    {
      "cell_type": "code",
      "source": [
        "print(train)\n",
        "print(train.train_data.shape)\n",
        "print(train.train_labels.shape)"
      ],
      "metadata": {
        "colab": {
          "base_uri": "https://localhost:8080/"
        },
        "id": "J9ZRDy7fysdA",
        "outputId": "fb07f19f-a03a-41b7-b4b8-f2a446690ac9"
      },
      "execution_count": 32,
      "outputs": [
        {
          "output_type": "stream",
          "name": "stdout",
          "text": [
            "Dataset EMNIST\n",
            "    Number of datapoints: 112800\n",
            "    Root location: .\n",
            "    Split: Train\n",
            "    StandardTransform\n",
            "Transform: Compose(\n",
            "               ToTensor()\n",
            "               Lambda()\n",
            "           )\n",
            "torch.Size([112800, 28, 28])\n",
            "torch.Size([112800])\n"
          ]
        },
        {
          "output_type": "stream",
          "name": "stderr",
          "text": [
            "/usr/local/lib/python3.9/dist-packages/torchvision/datasets/mnist.py:75: UserWarning: train_data has been renamed data\n",
            "  warnings.warn(\"train_data has been renamed data\")\n",
            "/usr/local/lib/python3.9/dist-packages/torchvision/datasets/mnist.py:65: UserWarning: train_labels has been renamed targets\n",
            "  warnings.warn(\"train_labels has been renamed targets\")\n"
          ]
        }
      ]
    },
    {
      "cell_type": "code",
      "source": [
        "import pandas as pd\n",
        "tests = pd.Series(train.train_labels).value_counts().sort_index()\n",
        "\n",
        "label_list = list('0123456789ABCDEFGHIJKLMNOPQRSTUVWXYZabdefghnqrt')\n",
        "\n",
        "print('\"classes\"   \"Number\"   \"Percentage\"')\n",
        "total = int(train.train_labels.shape[0])\n",
        "for i,letter in enumerate(label_list):\n",
        "  print(f'Letter {letter} :   {tests[i]} \\t({(int(tests[i])/total)*100:.2f}%)')"
      ],
      "metadata": {
        "colab": {
          "base_uri": "https://localhost:8080/"
        },
        "id": "iAqf-6D8yzKm",
        "outputId": "bb3659e8-2c52-463f-c9c8-c3f9441fbcfa"
      },
      "execution_count": 70,
      "outputs": [
        {
          "output_type": "stream",
          "name": "stdout",
          "text": [
            "\"classes\"   \"Number\"   \"Percentage\"\n",
            "Letter 0 :   2400 \t(2.13%)\n",
            "Letter 1 :   2400 \t(2.13%)\n",
            "Letter 2 :   2400 \t(2.13%)\n",
            "Letter 3 :   2400 \t(2.13%)\n",
            "Letter 4 :   2400 \t(2.13%)\n",
            "Letter 5 :   2400 \t(2.13%)\n",
            "Letter 6 :   2400 \t(2.13%)\n",
            "Letter 7 :   2400 \t(2.13%)\n",
            "Letter 8 :   2400 \t(2.13%)\n",
            "Letter 9 :   2400 \t(2.13%)\n",
            "Letter A :   2400 \t(2.13%)\n",
            "Letter B :   2400 \t(2.13%)\n",
            "Letter C :   2400 \t(2.13%)\n",
            "Letter D :   2400 \t(2.13%)\n",
            "Letter E :   2400 \t(2.13%)\n",
            "Letter F :   2400 \t(2.13%)\n",
            "Letter G :   2400 \t(2.13%)\n",
            "Letter H :   2400 \t(2.13%)\n",
            "Letter I :   2400 \t(2.13%)\n",
            "Letter J :   2400 \t(2.13%)\n",
            "Letter K :   2400 \t(2.13%)\n",
            "Letter L :   2400 \t(2.13%)\n",
            "Letter M :   2400 \t(2.13%)\n",
            "Letter N :   2400 \t(2.13%)\n",
            "Letter O :   2400 \t(2.13%)\n",
            "Letter P :   2400 \t(2.13%)\n",
            "Letter Q :   2400 \t(2.13%)\n",
            "Letter R :   2400 \t(2.13%)\n",
            "Letter S :   2400 \t(2.13%)\n",
            "Letter T :   2400 \t(2.13%)\n",
            "Letter U :   2400 \t(2.13%)\n",
            "Letter V :   2400 \t(2.13%)\n",
            "Letter W :   2400 \t(2.13%)\n",
            "Letter X :   2400 \t(2.13%)\n",
            "Letter Y :   2400 \t(2.13%)\n",
            "Letter Z :   2400 \t(2.13%)\n",
            "Letter a :   2400 \t(2.13%)\n",
            "Letter b :   2400 \t(2.13%)\n",
            "Letter d :   2400 \t(2.13%)\n",
            "Letter e :   2400 \t(2.13%)\n",
            "Letter f :   2400 \t(2.13%)\n",
            "Letter g :   2400 \t(2.13%)\n",
            "Letter h :   2400 \t(2.13%)\n",
            "Letter n :   2400 \t(2.13%)\n",
            "Letter q :   2400 \t(2.13%)\n",
            "Letter r :   2400 \t(2.13%)\n",
            "Letter t :   2400 \t(2.13%)\n"
          ]
        },
        {
          "output_type": "stream",
          "name": "stderr",
          "text": [
            "/usr/local/lib/python3.9/dist-packages/torchvision/datasets/mnist.py:65: UserWarning: train_labels has been renamed targets\n",
            "  warnings.warn(\"train_labels has been renamed targets\")\n"
          ]
        }
      ]
    },
    {
      "cell_type": "code",
      "source": [
        "from torch.utils.data.dataloader import DataLoader\n",
        "from torch.utils.data.dataset import TensorDataset\n",
        "batchSize = 128 \n",
        "train_loader = DataLoader(train, batch_size = batchSize, shuffle=True)\n",
        "test_loader = DataLoader(test, batch_size = batchSize, shuffle=False)"
      ],
      "metadata": {
        "id": "eW15eLHxzHnn"
      },
      "execution_count": 71,
      "outputs": []
    },
    {
      "cell_type": "code",
      "source": [
        "examples = iter(train_loader)\n",
        "samples, labels = next(examples)\n",
        "print(samples.shape, labels.shape)\n",
        "\n",
        "for i in range(8):\n",
        "  plt.subplot(2,4,i+1)\n",
        "  plt.title(label_list[labels[i].detach().numpy()])\n",
        "  plt.imshow(samples[i].reshape((28,28)), cmap='gray')\n",
        "     "
      ],
      "metadata": {
        "colab": {
          "base_uri": "https://localhost:8080/",
          "height": 273
        },
        "id": "M5GKZgW6zj_W",
        "outputId": "c1d61806-86c8-4912-8076-0f1310342117"
      },
      "execution_count": 72,
      "outputs": [
        {
          "output_type": "stream",
          "name": "stdout",
          "text": [
            "torch.Size([128, 784]) torch.Size([128])\n"
          ]
        },
        {
          "output_type": "display_data",
          "data": {
            "text/plain": [
              "<Figure size 432x288 with 8 Axes>"
            ],
            "image/png": "[encoded data removed]"
          },
          "metadata": {
            "needs_background": "light"
          }
        }
      ]
    },
    {
      "cell_type": "code",
      "source": [
        "count_batch = 0\n",
        "for x,y in train_loader:\n",
        "  count_batch+=1\n",
        "\n",
        "print(f'Number of batches in train dataset: {count_batch} ')"
      ],
      "metadata": {
        "colab": {
          "base_uri": "https://localhost:8080/"
        },
        "id": "jAypiSfI0Biv",
        "outputId": "4688250b-cc73-43f6-8a0a-491f80281bb3"
      },
      "execution_count": 77,
      "outputs": [
        {
          "output_type": "stream",
          "name": "stdout",
          "text": [
            "Number of batches in train dataset: 882 \n"
          ]
        }
      ]
    },
    {
      "cell_type": "code",
      "source": [
        "count_test = 0\n",
        "for x,y in test_loader:\n",
        "  count_test+=1\n",
        "\n",
        "print(f'Number of batches in train dataset: {count_test} ')\n",
        "     "
      ],
      "metadata": {
        "colab": {
          "base_uri": "https://localhost:8080/"
        },
        "id": "tUaYMCx70K7f",
        "outputId": "ee2f9fb8-37a2-4e48-b93c-8d5514673a4d"
      },
      "execution_count": 79,
      "outputs": [
        {
          "output_type": "stream",
          "name": "stdout",
          "text": [
            "Number of batches in train dataset: 147 \n"
          ]
        }
      ]
    },
    {
      "cell_type": "code",
      "source": [
        "\n",
        "# MLP_1: 1 hidden layer\n",
        "class MLP_1(nn.Module):\n",
        "  def __init__(self,input_size, hidden_size, num_classes):\n",
        "    super(MLP_1,self).__init__()\n",
        "    self.layer1 = nn.Linear(input_size,hidden_size)\n",
        "    self.layer2 = nn.Linear(hidden_size,num_classes)\n",
        "\n",
        "  def forward(self,x):\n",
        "    out = self.layer1(x)\n",
        "    out = F.sigmoid(out)\n",
        "    out = self.layer2(out)\n",
        "    if not self.training:\n",
        "      out = F.softmax(out,dim=1) \n",
        "    return out\n",
        "\n",
        "# MLP_2: 2 hidden layer normal\n",
        "class MLP_2(nn.Module):\n",
        "  def __init__(self,input_size, hidden_size1, hidden_size2, num_classes):\n",
        "    super(MLP_2,self).__init__()\n",
        "    self.layer1 = nn.Linear(input_size,hidden_size1)\n",
        "    self.layer2 = nn.Linear(hidden_size1,hidden_size2)\n",
        "    self.layer3 = nn.Linear(hidden_size2,num_classes)\n",
        "\n",
        "  def forward(self,x):\n",
        "    out = self.layer1(x)\n",
        "    out = F.sigmoid(out)\n",
        "    out = self.layer2(out)\n",
        "    out = F.sigmoid(out)\n",
        "    out = self.layer3(out)\n",
        "    if not self.training:\n",
        "      out = F.softmax(out,dim=1)\n",
        "    return out\n",
        "\n",
        "# MLP_2_DROP: 2 hidden layer with dropout\n",
        "class MLP_2_DROP(nn.Module):\n",
        "  def __init__(self,input_size, hidden_size1, hidden_size2, num_classes):\n",
        "    super(MLP_2_DROP,self).__init__()\n",
        "    self.layer1 = nn.Linear(input_size,hidden_size1)\n",
        "    self.layer2 = nn.Linear(hidden_size1,hidden_size2)\n",
        "    self.layerDrop = nn.Dropout(0.2)\n",
        "    self.layer3 = nn.Linear(hidden_size2,num_classes)\n",
        "\n",
        "  def forward(self,x):\n",
        "    out = self.layer1(x)\n",
        "    out = F.sigmoid(out)\n",
        "    out = self.layer2(out)\n",
        "    out = F.sigmoid(out)\n",
        "    out = self.layerDrop(out)\n",
        "    out = self.layer3(out)\n",
        "    if not self.training:\n",
        "      out = F.softmax(out,dim=1) \n",
        "    return out\n",
        "\n",
        "# MLP_3: 3 hidden layer\n",
        "class MLP_3(nn.Module):\n",
        "  def __init__(self,input_size, hidden_size1, hidden_size2, hidden_size3, num_classes):\n",
        "    super(MLP_3,self).__init__()\n",
        "    self.layer1 = nn.Linear(input_size,hidden_size1)\n",
        "    self.layer2 = nn.Linear(hidden_size1,hidden_size2)\n",
        "    self.layer3 = nn.Linear(hidden_size2,hidden_size3)\n",
        "    self.layer4 = nn.Linear(hidden_size3,num_classes)\n",
        "\n",
        "  def forward(self,x):\n",
        "    out = self.layer1(x)\n",
        "    out = F.sigmoid(out)\n",
        "    out = self.layer2(out)\n",
        "    out = F.sigmoid(out)\n",
        "    out = self.layer3(out)\n",
        "    out = F.sigmoid(out)\n",
        "    out = self.layer4(out)\n",
        "    if not self.training:\n",
        "      out = F.softmax(out,dim=1) \n",
        "    return out"
      ],
      "metadata": {
        "id": "1kkK5HfI3zkv"
      },
      "execution_count": 182,
      "outputs": []
    },
    {
      "cell_type": "code",
      "source": [
        "input_size = 784\n",
        "num_classes = 47\n",
        "\n",
        "model_layer1 = MLP_1(input_size, 570, num_classes)\n",
        "model_layer2 = MLP_2(input_size, 570, 427, num_classes)\n",
        "model_layer2drop = MLP_2_DROP(input_size, 570, 427, num_classes)\n",
        "model_layer3 = MLP_3(input_size, 570, 427, 332, num_classes)"
      ],
      "metadata": {
        "id": "uY1s1YpC35V_"
      },
      "execution_count": 183,
      "outputs": []
    },
    {
      "cell_type": "code",
      "source": [
        "model_layer1.load_state_dict(torch.load('model1.weights'))\n",
        "model_layer2.load_state_dict(torch.load('model2.weights'))\n",
        "model_layer2drop.load_state_dict(torch.load('model2drop.weights'))\n",
        "model_layer3.load_state_dict(torch.load('model3.weights'))"
      ],
      "metadata": {
        "colab": {
          "base_uri": "https://localhost:8080/"
        },
        "id": "3Yh8C2rb37s4",
        "outputId": "51094bd3-a223-4750-bb40-7b7e5855d334"
      },
      "execution_count": 184,
      "outputs": [
        {
          "output_type": "execute_result",
          "data": {
            "text/plain": [
              "<All keys matched successfully>"
            ]
          },
          "metadata": {},
          "execution_count": 184
        }
      ]
    },
    {
      "cell_type": "code",
      "source": [
        "num_epochs = 10\n",
        "\n",
        "loss_fn = nn.CrossEntropyLoss()\n",
        "opt1 = torch.optim.Adam(model_layer1.parameters()) \n",
        "opt2n = torch.optim.Adam(model_layer2.parameters())\n",
        "opt2d = torch.optim.Adam(model_layer2drop.parameters())\n",
        "opt3 = torch.optim.Adam(model_layer3.parameters())\n",
        "\n",
        "loss_epoch1 = []\n",
        "loss_epoch2n = []\n",
        "loss_epoch2d = []\n",
        "loss_epoch3 = []\n",
        "\n",
        "print(\"Training 1 hidden Layer:\")\n",
        "for epoch in range(num_epochs):\n",
        "  model_layer1.train()\n",
        "  loss = 0\n",
        "\n",
        "  for input, target_batch in train_loader:\n",
        "    opt1.zero_grad() \n",
        "    predict_batch = model_layer1(input) #forward\n",
        "    loss_batch = loss_fn(predict_batch, target_batch) #loss\n",
        "    loss_batch.backward() #backward\n",
        "\n",
        "    opt1.step() #update weights\n",
        "    loss += loss_batch.item()\n",
        "\n",
        "  loss_epoch1.append(loss)\n",
        "  print(f'Epoch: {epoch+1}  loss: {loss}')\n",
        "print(f'Learning parameters is: {sum(p.numel() for p in model_layer1.parameters() if p.requires_grad)}')\n",
        "\n",
        "print(\"*****************************************\\n\")\n",
        "print(\"Training 2 hidden Layer Normal:\")\n",
        "for epoch in range(num_epochs):\n",
        "  model_layer2.train()\n",
        "  loss = 0\n",
        "\n",
        "  for input, target_batch in train_loader:\n",
        "    opt2n.zero_grad()\n",
        "    predict_batch = model_layer2(input) #forward\n",
        "    loss_batch = loss_fn(predict_batch, target_batch) #loss\n",
        "    loss_batch.backward() #backward\n",
        "\n",
        "    opt2n.step() #update weights\n",
        "    loss += loss_batch.item()\n",
        "\n",
        "  loss_epoch2n.append(loss)\n",
        "  print(f'Epoch: {epoch+1}  loss: {loss}')\n",
        "print(f'Learning parameters is: {sum(p.numel() for p in model_layer2.parameters() if p.requires_grad)}')\n",
        "\n",
        "print(\"*****************************************\\n\")\n",
        "print(\"Training 2 hidden Layer With Dropout:\")\n",
        "for epoch in range(num_epochs):\n",
        "  model_layer2drop.train()\n",
        "  loss = 0\n",
        "\n",
        "  for input, target_batch in train_loader:\n",
        "    opt2d.zero_grad() \n",
        "    predict_batch = model_layer2drop(input) #forward\n",
        "    loss_batch = loss_fn(predict_batch, target_batch) #loss\n",
        "    loss_batch.backward() #backward\n",
        "\n",
        "    opt2d.step() #update weights\n",
        "    loss += loss_batch.item()\n",
        "\n",
        "  loss_epoch2d.append(loss)\n",
        "  print(f'Epoch: {epoch+1}  loss: {loss}')\n",
        "print(f'Learning parameters is: {sum(p.numel() for p in model_layer2drop.parameters() if p.requires_grad)}')\n",
        "\n",
        "print(\"*****************************************\\n\")\n",
        "print(\"Training 3 hidden Layer:\")\n",
        "for epoch in range(num_epochs):\n",
        "  model_layer3.train()\n",
        "  loss = 0\n",
        "\n",
        "  for input, target_batch in train_loader:\n",
        "    opt3.zero_grad() \n",
        "    predict_batch = model_layer3(input) #forward\n",
        "    loss_batch = loss_fn(predict_batch, target_batch) #loss\n",
        "    loss_batch.backward() #backward\n",
        "\n",
        "    opt3.step() #update weights\n",
        "    loss += loss_batch.item()\n",
        "\n",
        "  loss_epoch3.append(loss)\n",
        "  print(f'Epoch: {epoch+1}  loss: {loss}')\n",
        "print(f'Learning parameters is: {sum(p.numel() for p in model_layer3.parameters() if p.requires_grad)}')\n",
        "  "
      ],
      "metadata": {
        "colab": {
          "base_uri": "https://localhost:8080/"
        },
        "id": "-hQiF0h74VnQ",
        "outputId": "d96c877d-fcf3-4b21-eadf-07d32a8f7755"
      },
      "execution_count": 164,
      "outputs": [
        {
          "output_type": "stream",
          "name": "stdout",
          "text": [
            "Training 1 hidden Layer:\n",
            "Epoch: 1  loss: 284.8777794390917\n",
            "Epoch: 2  loss: 262.6149064414203\n",
            "Epoch: 3  loss: 250.93636675179005\n",
            "Epoch: 4  loss: 236.50438810884953\n",
            "Epoch: 5  loss: 234.7890062816441\n",
            "Epoch: 6  loss: 222.0900409258902\n",
            "Epoch: 7  loss: 213.3533588182181\n",
            "Epoch: 8  loss: 211.1856044344604\n",
            "Epoch: 9  loss: 203.7217687200755\n",
            "Epoch: 10  loss: 204.81567726284266\n",
            "Learning parameters is: 474287\n",
            "*****************************************\n",
            "\n",
            "Training 2 hidden Layer Normal:\n",
            "Epoch: 1  loss: 100.06675751507282\n",
            "Epoch: 2  loss: 98.57210479862988\n",
            "Epoch: 3  loss: 94.80297289788723\n",
            "Epoch: 4  loss: 90.03556370548904\n",
            "Epoch: 5  loss: 90.65276801213622\n",
            "Epoch: 6  loss: 91.3111968068406\n",
            "Epoch: 7  loss: 86.35330037306994\n",
            "Epoch: 8  loss: 84.11947012133896\n",
            "Epoch: 9  loss: 83.2050456404686\n",
            "Epoch: 10  loss: 81.29803251288831\n",
            "Learning parameters is: 711383\n",
            "*****************************************\n",
            "\n",
            "Training 2 hidden Layer With Dropout:\n",
            "Epoch: 1  loss: 150.0035155750811\n",
            "Epoch: 2  loss: 135.8653983399272\n",
            "Epoch: 3  loss: 130.19164247065783\n",
            "Epoch: 4  loss: 127.3670689612627\n",
            "Epoch: 5  loss: 124.98505245661363\n",
            "Epoch: 6  loss: 119.95800575986505\n",
            "Epoch: 7  loss: 121.79034438729286\n",
            "Epoch: 8  loss: 118.25156307034194\n",
            "Epoch: 9  loss: 116.77463017590344\n",
            "Epoch: 10  loss: 115.04073834046721\n",
            "Learning parameters is: 711383\n",
            "*****************************************\n",
            "\n",
            "Training 3 hidden Layer:\n",
            "Epoch: 1  loss: 140.99711906537414\n",
            "Epoch: 2  loss: 126.80955989286304\n",
            "Epoch: 3  loss: 126.72752939537168\n",
            "Epoch: 4  loss: 123.93361775577068\n",
            "Epoch: 5  loss: 123.67681343480945\n",
            "Epoch: 6  loss: 119.57459492608905\n",
            "Epoch: 7  loss: 114.97556263022125\n",
            "Epoch: 8  loss: 122.06261174380779\n",
            "Epoch: 9  loss: 113.56797743029892\n",
            "Epoch: 10  loss: 117.62824798561633\n",
            "Learning parameters is: 849014\n"
          ]
        }
      ]
    },
    {
      "cell_type": "code",
      "source": [
        "losses = [loss_epoch1,loss_epoch2n,loss_epoch2d,loss_epoch3]\n",
        "\n",
        "with open('./losses.txt', 'a') as testwritefile:\n",
        "    testwritefile.write(str(losses))\n",
        "     "
      ],
      "metadata": {
        "id": "o3vUq181A93s"
      },
      "execution_count": 165,
      "outputs": []
    },
    {
      "cell_type": "code",
      "source": [
        "loss_epoch1,loss_epoch2n,loss_epoch2d,loss_epoch3 = [],[],[],[]\n",
        "losses = [loss_epoch1,loss_epoch2n,loss_epoch2d,loss_epoch3]\n",
        "\n",
        "with open('./losses.txt', 'r') as testwritefile:\n",
        "    lossess = testwritefile.read()\n",
        "\n",
        "for losses_each, losses_list in zip(lossess.split(\"[[\")[1].split(\"]]\")[0].split(\"], [\"),losses):\n",
        "  for each in losses_each.split(\",\"):\n",
        "    losses_list.append(float(each.strip()))"
      ],
      "metadata": {
        "id": "AikNqMsiBEBg"
      },
      "execution_count": 166,
      "outputs": []
    },
    {
      "cell_type": "code",
      "source": [
        "num_epochs = 10\n",
        "\n",
        "plt.plot(range(num_epochs), loss_epoch1, label=\"1 Hidden Layers\")\n",
        "plt.plot(range(num_epochs), loss_epoch2n, label=\"2 Hidden Layers\")\n",
        "plt.plot(range(num_epochs), loss_epoch2d, label=\"2 Hidden Layers with Dropout\")\n",
        "plt.plot(range(num_epochs), loss_epoch3, label=\"3 Hidden Layers\")\n",
        "plt.title('Training loss')\n",
        "plt.xlabel(\"Epoch number\")\n",
        "plt.ylabel(\"Loss\")\n",
        "plt.legend()"
      ],
      "metadata": {
        "colab": {
          "base_uri": "https://localhost:8080/",
          "height": 313
        },
        "id": "yAFd82VIBIOB",
        "outputId": "8bf717ed-45f7-4458-f55a-26773802a2e7"
      },
      "execution_count": 167,
      "outputs": [
        {
          "output_type": "execute_result",
          "data": {
            "text/plain": [
              "<matplotlib.legend.Legend at 0x7f92b353e6d0>"
            ]
          },
          "metadata": {},
          "execution_count": 167
        },
        {
          "output_type": "display_data",
          "data": {
            "text/plain": [
              "<Figure size 432x288 with 1 Axes>"
            ],
            "image/png": "[encoded data removed]"
          },
          "metadata": {
            "needs_background": "light"
          }
        }
      ]
    },
    {
      "cell_type": "code",
      "source": [
        "torch.save(model_layer1.state_dict(), \"./model1.weights\")\n",
        "torch.save(model_layer2.state_dict(), \"./model2.weights\")\n",
        "torch.save(model_layer2drop.state_dict(), \"./model2drop.weights\")\n",
        "torch.save(model_layer3.state_dict(), \"./model3.weights\")"
      ],
      "metadata": {
        "id": "5lE0LF4dBcF7"
      },
      "execution_count": 168,
      "outputs": []
    },
    {
      "cell_type": "code",
      "source": [
        "model_layer1 = model_layer1.eval()\n",
        "model_layer2 = model_layer2.eval()\n",
        "model_layer2drop = model_layer2drop.eval()\n",
        "model_layer3 = model_layer3.eval()"
      ],
      "metadata": {
        "id": "7vKRHnkIBelI"
      },
      "execution_count": 169,
      "outputs": []
    },
    {
      "cell_type": "code",
      "source": [
        "def eval_model_acc_err(loader,model):\n",
        "  n_correct = 0\n",
        "  n_total = 0\n",
        "\n",
        "  for input_batch, target_batch in loader:\n",
        "    predict_batch = model(input_batch) \n",
        "    _, predictions = torch.max(predict_batch, 1)\n",
        "    n_total += target_batch.shape[0]\n",
        "    n_correct += (predictions == target_batch).sum().item()\n",
        "\n",
        "  acc = round((n_correct / n_total)*100,2)\n",
        "  err = round(1-(n_correct / n_total),2)\n",
        "  # print(f'data number: {n_total}')\n",
        "  # print(f'wrong predicted label nuber: {n_total - n_correct}')\n",
        "  # print(f'Accuracy: {acc}')\n",
        "  return acc,err"
      ],
      "metadata": {
        "id": "lY1EYW83Bfxx"
      },
      "execution_count": 170,
      "outputs": []
    },
    {
      "cell_type": "code",
      "source": [
        "print('1 hidden Layer...')\n",
        "print(\"Training Data:\")\n",
        "train1_acc,train1_err = eval_model_acc_err(train_loader, model_layer1)\n",
        "print(f'training error : {train1_err}')\n",
        "print(f'training accuracy {train1_acc:.2f}%')\n",
        "print('-------------------------------------------\\n')\n",
        "\n",
        "print(\"\\nTesting Data:\")\n",
        "test1_acc,test1_err = eval_model_acc_err(test_loader, model_layer1)\n",
        "print(f'Testing error : {test1_err}')\n",
        "print(f'Testing accuracy {test1_acc:.2f}%')\n",
        "print('*******************************************\\n')\n",
        "\n",
        "\n",
        "print('2 hidden Layer Normal...')\n",
        "train2n_acc,train2n_err = eval_model_acc_err(train_loader, model_layer2)\n",
        "print(f'training error : {train2n_err}')\n",
        "print(f'training accuracy {train2n_acc:.2f}%')\n",
        "print('-------------------------------------------\\n')\n",
        "\n",
        "test2n_acc,test2n_err = eval_model_acc_err(test_loader, model_layer2)\n",
        "print(f'Testing error : {test2n_err}')\n",
        "print(f'Testing accuracy {test2n_acc:.2f}%')\n",
        "print('*******************************************\\n')\n",
        "\n",
        "\n",
        "print('2 hidden Layer with Dropout...')\n",
        "train2d_acc,train2d_err = eval_model_acc_err(train_loader, model_layer2drop)\n",
        "print(f'training error : {train2d_err}')\n",
        "print(f'training accuracy {train2d_acc:.2f}%')\n",
        "print('-------------------------------------------\\n')\n",
        "\n",
        "test2d_acc,test2d_err = eval_model_acc_err(test_loader, model_layer2drop)\n",
        "print(f'Testing error : {test2d_err}')\n",
        "print(f'Testing accuracy {test2d_acc:.2f}%')\n",
        "print('*******************************************\\n')\n",
        "\n",
        "\n",
        "print('3 hidden Layer...')\n",
        "train3_acc,train3_err = eval_model_acc_err(train_loader, model_layer3)\n",
        "print(f'training error : {train3_err}')\n",
        "print(f'training accuracy {train3_acc:.2f}%')\n",
        "print('-------------------------------------------\\n')\n",
        "\n",
        "test3_acc,test3_err = eval_model_acc_err(test_loader, model_layer3)\n",
        "print(f'Testing error : {test3_err}')\n",
        "print(f'Testing accuracy {test3_acc:.2f}%')"
      ],
      "metadata": {
        "colab": {
          "base_uri": "https://localhost:8080/"
        },
        "id": "pZFa7nbXBlhA",
        "outputId": "df580a5d-b15b-45b3-f363-72f7c304ee05"
      },
      "execution_count": 171,
      "outputs": [
        {
          "output_type": "stream",
          "name": "stdout",
          "text": [
            "1 hidden Layer...\n",
            "Training Data:\n",
            "training error : 0.07\n",
            "training accuracy 93.34%\n",
            "-------------------------------------------\n",
            "\n",
            "\n",
            "Testing Data:\n",
            "Testing error : 0.19\n",
            "Testing accuracy 81.38%\n",
            "*******************************************\n",
            "\n",
            "2 hidden Layer Normal...\n",
            "training error : 0.03\n",
            "training accuracy 96.99%\n",
            "-------------------------------------------\n",
            "\n",
            "Testing error : 0.16\n",
            "Testing accuracy 83.73%\n",
            "*******************************************\n",
            "\n",
            "2 hidden Layer with Dropout...\n",
            "training error : 0.04\n",
            "training accuracy 95.86%\n",
            "-------------------------------------------\n",
            "\n",
            "Testing error : 0.16\n",
            "Testing accuracy 84.49%\n",
            "*******************************************\n",
            "\n",
            "3 hidden Layer...\n",
            "training error : 0.04\n",
            "training accuracy 95.56%\n",
            "-------------------------------------------\n",
            "\n",
            "Testing error : 0.16\n",
            "Testing accuracy 83.80%\n"
          ]
        }
      ]
    },
    {
      "cell_type": "code",
      "source": [
        "params_m1 = sum(p.numel() for p in model_layer1.parameters() if p.requires_grad)\n",
        "params_m2 = sum(p.numel() for p in model_layer2.parameters() if p.requires_grad)\n",
        "params_m2drop = sum(p.numel() for p in model_layer2drop.parameters() if p.requires_grad)\n",
        "params_m3 = sum(p.numel() for p in model_layer3.parameters() if p.requires_grad)\n",
        "params_all = [params_m1,params_m2,params_m2drop,params_m3]\n",
        "\n",
        "train_acc_all = [train1_acc,train2n_acc,train2d_acc,train3_acc]\n",
        "test_acc_all = [test1_acc,test2n_acc,test2d_acc,test3_acc]\n",
        "\n",
        "train_err_all = [train1_err,train2n_err,train2d_err,train3_err]\n",
        "test_err_all = [test1_err,test2n_err,test2d_err,test3_err]"
      ],
      "metadata": {
        "id": "zNptol6kDkqm"
      },
      "execution_count": 159,
      "outputs": []
    },
    {
      "cell_type": "code",
      "source": [
        "plt.plot(params_all,train_acc_all,marker='^',label='Train data')\n",
        "plt.plot(params_all,test_acc_all,marker='^',label='Test data')\n",
        "plt.title('Training and Testing Accuracy')\n",
        "plt.xlabel(\"Model Parameters\")\n",
        "plt.ylabel(\"Accuracy %\")\n",
        "plt.legend()"
      ],
      "metadata": {
        "colab": {
          "base_uri": "https://localhost:8080/",
          "height": 313
        },
        "id": "uzxIzzvrAi0I",
        "outputId": "c7d27acf-a615-4327-f59e-cd161dd5b34b"
      },
      "execution_count": 160,
      "outputs": [
        {
          "output_type": "execute_result",
          "data": {
            "text/plain": [
              "<matplotlib.legend.Legend at 0x7f92b329fa90>"
            ]
          },
          "metadata": {},
          "execution_count": 160
        },
        {
          "output_type": "display_data",
          "data": {
            "text/plain": [
              "<Figure size 432x288 with 1 Axes>"
            ],
            "image/png": "[encoded data removed]"
          },
          "metadata": {
            "needs_background": "light"
          }
        }
      ]
    }
  ]
}